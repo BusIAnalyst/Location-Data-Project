{
    "cells": [
        {
            "cell_type": "markdown",
            "metadata": {
                "collapsed": true
            },
            "source": "<h1>Segmenting and Clustering Neighborhoods in Toronto</h1>"
        },
        {
            "cell_type": "markdown",
            "metadata": {},
            "source": "### Webscraping and loading of information\nFirst we have to install the required packages for webscraping:"
        },
        {
            "cell_type": "code",
            "execution_count": 1,
            "metadata": {},
            "outputs": [
                {
                    "name": "stdout",
                    "output_type": "stream",
                    "text": "Solving environment: done\n\n# All requested packages already installed.\n\nSolving environment: done\n\n# All requested packages already installed.\n\nSolving environment: done\n\n# All requested packages already installed.\n\nSolving environment: done\n\n# All requested packages already installed.\n\n"
                }
            ],
            "source": "!conda install beautifulsoup4\n!conda install lxml\n!conda install html5lib\n!conda install requests"
        },
        {
            "cell_type": "markdown",
            "metadata": {},
            "source": "Then we load the packages that are going to be used:"
        },
        {
            "cell_type": "code",
            "execution_count": 2,
            "metadata": {},
            "outputs": [],
            "source": "import pandas as pd\nimport numpy as np\nfrom bs4 import BeautifulSoup\nimport requests\nimport re"
        },
        {
            "cell_type": "markdown",
            "metadata": {},
            "source": "Next, we get the information of the Wikipedia Webpage into a html file in order to obtain only the information tha is on the table:"
        },
        {
            "cell_type": "code",
            "execution_count": 3,
            "metadata": {},
            "outputs": [],
            "source": "#Webscraping information\nurl = 'https://en.wikipedia.org/wiki/List_of_postal_codes_of_Canada:_M'\n\nsource = requests.get(url).text\nsoup = BeautifulSoup(source, 'lxml')\n\ntable = soup.find('table')"
        },
        {
            "cell_type": "markdown",
            "metadata": {},
            "source": "We scrape the elements within the table and append them into a Pandas DataFrame:"
        },
        {
            "cell_type": "code",
            "execution_count": 4,
            "metadata": {},
            "outputs": [
                {
                    "data": {
                        "text/html": "<div>\n<style scoped>\n    .dataframe tbody tr th:only-of-type {\n        vertical-align: middle;\n    }\n\n    .dataframe tbody tr th {\n        vertical-align: top;\n    }\n\n    .dataframe thead th {\n        text-align: right;\n    }\n</style>\n<table border=\"1\" class=\"dataframe\">\n  <thead>\n    <tr style=\"text-align: right;\">\n      <th></th>\n      <th>Borough</th>\n      <th>Neighborhood</th>\n      <th>Postcode</th>\n    </tr>\n  </thead>\n  <tbody>\n    <tr>\n      <th>0</th>\n      <td>Not assigned</td>\n      <td>Not assigned</td>\n      <td>M2A</td>\n    </tr>\n    <tr>\n      <th>1</th>\n      <td>North York</td>\n      <td>Parkwoods</td>\n      <td>M3A</td>\n    </tr>\n    <tr>\n      <th>2</th>\n      <td>North York</td>\n      <td>Victoria Village</td>\n      <td>M4A</td>\n    </tr>\n    <tr>\n      <th>3</th>\n      <td>Downtown Toronto</td>\n      <td>Harbourfront</td>\n      <td>M5A</td>\n    </tr>\n    <tr>\n      <th>4</th>\n      <td>North York</td>\n      <td>Lawrence Heights</td>\n      <td>M6A</td>\n    </tr>\n    <tr>\n      <th>5</th>\n      <td>North York</td>\n      <td>Lawrence Manor</td>\n      <td>M6A</td>\n    </tr>\n    <tr>\n      <th>6</th>\n      <td>Downtown Toronto</td>\n      <td>Queen's Park</td>\n      <td>M7A</td>\n    </tr>\n    <tr>\n      <th>7</th>\n      <td>Not assigned</td>\n      <td>Not assigned</td>\n      <td>M8A</td>\n    </tr>\n    <tr>\n      <th>8</th>\n      <td>Queen's Park</td>\n      <td>Not assigned</td>\n      <td>M9A</td>\n    </tr>\n    <tr>\n      <th>9</th>\n      <td>Scarborough</td>\n      <td>Rouge</td>\n      <td>M1B</td>\n    </tr>\n    <tr>\n      <th>10</th>\n      <td>Scarborough</td>\n      <td>Malvern</td>\n      <td>M1B</td>\n    </tr>\n    <tr>\n      <th>11</th>\n      <td>Not assigned</td>\n      <td>Not assigned</td>\n      <td>M2B</td>\n    </tr>\n  </tbody>\n</table>\n</div>",
                        "text/plain": "             Borough      Neighborhood Postcode\n0       Not assigned      Not assigned      M2A\n1         North York         Parkwoods      M3A\n2         North York  Victoria Village      M4A\n3   Downtown Toronto      Harbourfront      M5A\n4         North York  Lawrence Heights      M6A\n5         North York    Lawrence Manor      M6A\n6   Downtown Toronto      Queen's Park      M7A\n7       Not assigned      Not assigned      M8A\n8       Queen's Park      Not assigned      M9A\n9        Scarborough             Rouge      M1B\n10       Scarborough           Malvern      M1B\n11      Not assigned      Not assigned      M2B"
                    },
                    "execution_count": 4,
                    "metadata": {},
                    "output_type": "execute_result"
                }
            ],
            "source": "# Empty List for loading data from website\npost_codes = []\n\nfor tr in table.find_all('tr')[2:]:\n    post_codes.append({\n            'Postcode': tr.find_all('td')[0].text,\n            'Borough': tr.find_all('td')[1].text,\n            'Neighborhood': re.sub('\\n$', '', tr.find_all('td')[2].text)\n            })\n    \npost_codes = pd.DataFrame(post_codes)\npost_codes.head(12)"
        },
        {
            "cell_type": "markdown",
            "metadata": {},
            "source": "Finally, we clean the dataset:\n- Filter those rows without an assigned __Borough__"
        },
        {
            "cell_type": "code",
            "execution_count": 5,
            "metadata": {},
            "outputs": [
                {
                    "data": {
                        "text/html": "<div>\n<style scoped>\n    .dataframe tbody tr th:only-of-type {\n        vertical-align: middle;\n    }\n\n    .dataframe tbody tr th {\n        vertical-align: top;\n    }\n\n    .dataframe thead th {\n        text-align: right;\n    }\n</style>\n<table border=\"1\" class=\"dataframe\">\n  <thead>\n    <tr style=\"text-align: right;\">\n      <th></th>\n      <th>Borough</th>\n      <th>Neighborhood</th>\n      <th>Postcode</th>\n    </tr>\n  </thead>\n  <tbody>\n    <tr>\n      <th>1</th>\n      <td>North York</td>\n      <td>Parkwoods</td>\n      <td>M3A</td>\n    </tr>\n    <tr>\n      <th>2</th>\n      <td>North York</td>\n      <td>Victoria Village</td>\n      <td>M4A</td>\n    </tr>\n    <tr>\n      <th>3</th>\n      <td>Downtown Toronto</td>\n      <td>Harbourfront</td>\n      <td>M5A</td>\n    </tr>\n    <tr>\n      <th>4</th>\n      <td>North York</td>\n      <td>Lawrence Heights</td>\n      <td>M6A</td>\n    </tr>\n    <tr>\n      <th>5</th>\n      <td>North York</td>\n      <td>Lawrence Manor</td>\n      <td>M6A</td>\n    </tr>\n    <tr>\n      <th>6</th>\n      <td>Downtown Toronto</td>\n      <td>Queen's Park</td>\n      <td>M7A</td>\n    </tr>\n    <tr>\n      <th>8</th>\n      <td>Queen's Park</td>\n      <td>Not assigned</td>\n      <td>M9A</td>\n    </tr>\n    <tr>\n      <th>9</th>\n      <td>Scarborough</td>\n      <td>Rouge</td>\n      <td>M1B</td>\n    </tr>\n    <tr>\n      <th>10</th>\n      <td>Scarborough</td>\n      <td>Malvern</td>\n      <td>M1B</td>\n    </tr>\n    <tr>\n      <th>12</th>\n      <td>North York</td>\n      <td>Don Mills North</td>\n      <td>M3B</td>\n    </tr>\n    <tr>\n      <th>13</th>\n      <td>East York</td>\n      <td>Woodbine Gardens</td>\n      <td>M4B</td>\n    </tr>\n    <tr>\n      <th>14</th>\n      <td>East York</td>\n      <td>Parkview Hill</td>\n      <td>M4B</td>\n    </tr>\n  </tbody>\n</table>\n</div>",
                        "text/plain": "             Borough      Neighborhood Postcode\n1         North York         Parkwoods      M3A\n2         North York  Victoria Village      M4A\n3   Downtown Toronto      Harbourfront      M5A\n4         North York  Lawrence Heights      M6A\n5         North York    Lawrence Manor      M6A\n6   Downtown Toronto      Queen's Park      M7A\n8       Queen's Park      Not assigned      M9A\n9        Scarborough             Rouge      M1B\n10       Scarborough           Malvern      M1B\n12        North York   Don Mills North      M3B\n13         East York  Woodbine Gardens      M4B\n14         East York     Parkview Hill      M4B"
                    },
                    "execution_count": 5,
                    "metadata": {},
                    "output_type": "execute_result"
                }
            ],
            "source": "post_codes = post_codes[-post_codes['Borough'].str.contains(\"Not assigned\")]\npost_codes.head(12)"
        },
        {
            "cell_type": "markdown",
            "metadata": {},
            "source": "- For those rows without an assigned __Neighborhood__, use the name of the corresponding __Borough__"
        },
        {
            "cell_type": "code",
            "execution_count": 6,
            "metadata": {},
            "outputs": [
                {
                    "data": {
                        "text/html": "<div>\n<style scoped>\n    .dataframe tbody tr th:only-of-type {\n        vertical-align: middle;\n    }\n\n    .dataframe tbody tr th {\n        vertical-align: top;\n    }\n\n    .dataframe thead th {\n        text-align: right;\n    }\n</style>\n<table border=\"1\" class=\"dataframe\">\n  <thead>\n    <tr style=\"text-align: right;\">\n      <th></th>\n      <th>Borough</th>\n      <th>Neighborhood</th>\n      <th>Postcode</th>\n    </tr>\n  </thead>\n  <tbody>\n    <tr>\n      <th>1</th>\n      <td>North York</td>\n      <td>Parkwoods</td>\n      <td>M3A</td>\n    </tr>\n    <tr>\n      <th>2</th>\n      <td>North York</td>\n      <td>Victoria Village</td>\n      <td>M4A</td>\n    </tr>\n    <tr>\n      <th>3</th>\n      <td>Downtown Toronto</td>\n      <td>Harbourfront</td>\n      <td>M5A</td>\n    </tr>\n    <tr>\n      <th>4</th>\n      <td>North York</td>\n      <td>Lawrence Heights</td>\n      <td>M6A</td>\n    </tr>\n    <tr>\n      <th>5</th>\n      <td>North York</td>\n      <td>Lawrence Manor</td>\n      <td>M6A</td>\n    </tr>\n    <tr>\n      <th>6</th>\n      <td>Downtown Toronto</td>\n      <td>Queen's Park</td>\n      <td>M7A</td>\n    </tr>\n    <tr>\n      <th>8</th>\n      <td>Queen's Park</td>\n      <td>Queen's Park</td>\n      <td>M9A</td>\n    </tr>\n    <tr>\n      <th>9</th>\n      <td>Scarborough</td>\n      <td>Rouge</td>\n      <td>M1B</td>\n    </tr>\n    <tr>\n      <th>10</th>\n      <td>Scarborough</td>\n      <td>Malvern</td>\n      <td>M1B</td>\n    </tr>\n    <tr>\n      <th>12</th>\n      <td>North York</td>\n      <td>Don Mills North</td>\n      <td>M3B</td>\n    </tr>\n    <tr>\n      <th>13</th>\n      <td>East York</td>\n      <td>Woodbine Gardens</td>\n      <td>M4B</td>\n    </tr>\n    <tr>\n      <th>14</th>\n      <td>East York</td>\n      <td>Parkview Hill</td>\n      <td>M4B</td>\n    </tr>\n  </tbody>\n</table>\n</div>",
                        "text/plain": "             Borough      Neighborhood Postcode\n1         North York         Parkwoods      M3A\n2         North York  Victoria Village      M4A\n3   Downtown Toronto      Harbourfront      M5A\n4         North York  Lawrence Heights      M6A\n5         North York    Lawrence Manor      M6A\n6   Downtown Toronto      Queen's Park      M7A\n8       Queen's Park      Queen's Park      M9A\n9        Scarborough             Rouge      M1B\n10       Scarborough           Malvern      M1B\n12        North York   Don Mills North      M3B\n13         East York  Woodbine Gardens      M4B\n14         East York     Parkview Hill      M4B"
                    },
                    "execution_count": 6,
                    "metadata": {},
                    "output_type": "execute_result"
                }
            ],
            "source": "post_codes['Neighborhood'][post_codes['Neighborhood'].str.contains(\"Not assigned\")] = np.nan\npost_codes['Neighborhood'] = post_codes['Neighborhood'].fillna(post_codes['Borough'])\npost_codes.head(12)"
        },
        {
            "cell_type": "markdown",
            "metadata": {},
            "source": "- And collect all the __Neighborhoods__ that are within a certain __Postcode__"
        },
        {
            "cell_type": "code",
            "execution_count": 7,
            "metadata": {},
            "outputs": [
                {
                    "data": {
                        "text/html": "<div>\n<style scoped>\n    .dataframe tbody tr th:only-of-type {\n        vertical-align: middle;\n    }\n\n    .dataframe tbody tr th {\n        vertical-align: top;\n    }\n\n    .dataframe thead th {\n        text-align: right;\n    }\n</style>\n<table border=\"1\" class=\"dataframe\">\n  <thead>\n    <tr style=\"text-align: right;\">\n      <th></th>\n      <th>Postcode</th>\n      <th>Borough</th>\n      <th>Neighborhood</th>\n    </tr>\n  </thead>\n  <tbody>\n    <tr>\n      <th>0</th>\n      <td>M1B</td>\n      <td>Scarborough</td>\n      <td>Malvern, Rouge</td>\n    </tr>\n    <tr>\n      <th>1</th>\n      <td>M1C</td>\n      <td>Scarborough</td>\n      <td>Highland Creek, Rouge Hill, Port Union</td>\n    </tr>\n    <tr>\n      <th>2</th>\n      <td>M1E</td>\n      <td>Scarborough</td>\n      <td>Guildwood, West Hill, Morningside</td>\n    </tr>\n    <tr>\n      <th>3</th>\n      <td>M1G</td>\n      <td>Scarborough</td>\n      <td>Woburn</td>\n    </tr>\n    <tr>\n      <th>4</th>\n      <td>M1H</td>\n      <td>Scarborough</td>\n      <td>Cedarbrae</td>\n    </tr>\n    <tr>\n      <th>5</th>\n      <td>M1J</td>\n      <td>Scarborough</td>\n      <td>Scarborough Village</td>\n    </tr>\n    <tr>\n      <th>6</th>\n      <td>M1K</td>\n      <td>Scarborough</td>\n      <td>Kennedy Park, Ionview, East Birchmount Park</td>\n    </tr>\n    <tr>\n      <th>7</th>\n      <td>M1L</td>\n      <td>Scarborough</td>\n      <td>Oakridge, Clairlea, Golden Mile</td>\n    </tr>\n    <tr>\n      <th>8</th>\n      <td>M1M</td>\n      <td>Scarborough</td>\n      <td>Cliffside, Scarborough Village West, Cliffcrest</td>\n    </tr>\n    <tr>\n      <th>9</th>\n      <td>M1N</td>\n      <td>Scarborough</td>\n      <td>Cliffside West, Birch Cliff</td>\n    </tr>\n    <tr>\n      <th>10</th>\n      <td>M1P</td>\n      <td>Scarborough</td>\n      <td>Wexford Heights, Dorset Park, Scarborough Town...</td>\n    </tr>\n    <tr>\n      <th>11</th>\n      <td>M1R</td>\n      <td>Scarborough</td>\n      <td>Maryvale, Wexford</td>\n    </tr>\n  </tbody>\n</table>\n</div>",
                        "text/plain": "   Postcode      Borough                                       Neighborhood\n0       M1B  Scarborough                                     Malvern, Rouge\n1       M1C  Scarborough             Highland Creek, Rouge Hill, Port Union\n2       M1E  Scarborough                  Guildwood, West Hill, Morningside\n3       M1G  Scarborough                                             Woburn\n4       M1H  Scarborough                                          Cedarbrae\n5       M1J  Scarborough                                Scarborough Village\n6       M1K  Scarborough        Kennedy Park, Ionview, East Birchmount Park\n7       M1L  Scarborough                    Oakridge, Clairlea, Golden Mile\n8       M1M  Scarborough    Cliffside, Scarborough Village West, Cliffcrest\n9       M1N  Scarborough                        Cliffside West, Birch Cliff\n10      M1P  Scarborough  Wexford Heights, Dorset Park, Scarborough Town...\n11      M1R  Scarborough                                  Maryvale, Wexford"
                    },
                    "execution_count": 7,
                    "metadata": {},
                    "output_type": "execute_result"
                }
            ],
            "source": "post_codes = post_codes.groupby([\"Postcode\", \"Borough\"], as_index=False)['Neighborhood'].agg(lambda x : ', '.join(set(x)))\npost_codes.head(12)"
        },
        {
            "cell_type": "markdown",
            "metadata": {},
            "source": "Lastly, the DataFrame's shape:"
        },
        {
            "cell_type": "code",
            "execution_count": 8,
            "metadata": {},
            "outputs": [
                {
                    "data": {
                        "text/plain": "(103, 3)"
                    },
                    "execution_count": 8,
                    "metadata": {},
                    "output_type": "execute_result"
                }
            ],
            "source": "#Dimensions of DataFrame\npost_codes.shape"
        }
    ],
    "metadata": {
        "kernelspec": {
            "display_name": "Python 3.6",
            "language": "python",
            "name": "python3"
        },
        "language_info": {
            "codemirror_mode": {
                "name": "ipython",
                "version": 3
            },
            "file_extension": ".py",
            "mimetype": "text/x-python",
            "name": "python",
            "nbconvert_exporter": "python",
            "pygments_lexer": "ipython3",
            "version": "3.6.8"
        }
    },
    "nbformat": 4,
    "nbformat_minor": 1
}